{
 "cells": [
  {
   "cell_type": "code",
   "execution_count": 1,
   "id": "7da7bc9a-bd0a-407a-9e01-a7a64025be15",
   "metadata": {},
   "outputs": [
    {
     "name": "stderr",
     "output_type": "stream",
     "text": [
      "/opt/anaconda3/envs/finrl_env_310/lib/python3.10/site-packages/lightfm/_lightfm_fast.py:9: UserWarning: LightFM was compiled without OpenMP support. Only a single thread will be used.\n",
      "  warnings.warn(\n"
     ]
    }
   ],
   "source": [
    "import pandas as pd\n",
    "import numpy as np\n",
    "import pickle\n",
    "from scipy.sparse import coo_matrix\n",
    "from lightfm import LightFM\n",
    "from lightfm.data import Dataset\n",
    "from lightfm.evaluation import precision_at_k, recall_at_k, auc_score\n",
    "\n",
    "with open('processed_review_data.pkl', 'rb') as f:\n",
    "    df_reviews = pickle.load(f)\n",
    "with open('processed_restaurant_data.pkl', 'rb') as f:\n",
    "    df_rest = pickle.load(f)"
   ]
  },
  {
   "cell_type": "code",
   "execution_count": 3,
   "id": "94e39630-37b0-4239-acf3-1f8503b03fef",
   "metadata": {},
   "outputs": [],
   "source": [
    "df_reviews = df_reviews[[\n",
    "    'user_id', 'restaurant_id', 'normalized_rating', 'bert_score',\n",
    "    'recency_score', 'weighted_rating_score', 'user_name'\n",
    "]]\n",
    "df_rest = df_rest[[\n",
    "    'id', 'categories_list', 'normalized_rating_restaurants',\n",
    "    'normalized_wilson_score', 'normalized_latitude',\n",
    "    'normalized_longitude', 'popularity_score',\n",
    "    'normalized_log_review_count', 'name'\n",
    "]]"
   ]
  },
  {
   "cell_type": "code",
   "execution_count": 5,
   "id": "ba2717fb-0ee6-4536-a13d-bf0cce4f02d9",
   "metadata": {},
   "outputs": [],
   "source": [
    "user_ids = df_reviews['user_id'].unique()\n",
    "rest_ids = df_reviews['restaurant_id'].unique()\n",
    "\n",
    "user_to_index = {u: i for i, u in enumerate(user_ids)}\n",
    "rest_to_index = {r: i for i, r in enumerate(rest_ids)}\n",
    "index_to_user = {i: u for u, i in user_to_index.items()}\n",
    "index_to_rest = {i: r for r, i in rest_to_index.items()}\n",
    "\n",
    "df_reviews['user_idx'] = df_reviews['user_id'].map(user_to_index)\n",
    "df_reviews['rest_idx'] = df_reviews['restaurant_id'].map(rest_to_index)"
   ]
  },
  {
   "cell_type": "code",
   "execution_count": 7,
   "id": "cad95710-5392-41d3-8e44-39efdf72baaa",
   "metadata": {},
   "outputs": [],
   "source": [
    "df_rest = df_rest[df_rest['id'].isin(rest_ids)]\n",
    "\n",
    "feature_cols = [\n",
    "    'categories_list', 'normalized_rating_restaurants',\n",
    "    'normalized_wilson_score', 'normalized_latitude',\n",
    "    'normalized_longitude', 'popularity_score',\n",
    "    'normalized_log_review_count'\n",
    "]\n",
    "df_rest['item_feature_str'] = df_rest[feature_cols].astype(str).agg('|'.join, axis=1)\n"
   ]
  },
  {
   "cell_type": "code",
   "execution_count": 9,
   "id": "abc58bce-f450-41b7-8830-7f27b4c12038",
   "metadata": {},
   "outputs": [],
   "source": [
    "dataset = Dataset()\n",
    "dataset.fit(user_ids, rest_ids)\n",
    "unique_features = set()\n",
    "for row in df_rest['item_feature_str']:\n",
    "    unique_features.update(row.split('|'))\n",
    "    \n",
    "dataset.fit_partial(items=rest_ids, item_features=unique_features)\n",
    "\n",
    "(interactions_matrix, _) = dataset.build_interactions([\n",
    "    (row['user_id'], row['restaurant_id'], row['weighted_rating_score']) for _, row in df_reviews.iterrows()\n",
    "])\n",
    "item_features_matrix = dataset.build_item_features([\n",
    "    (row['id'], row['item_feature_str'].split('|')) for _, row in df_rest.iterrows()\n",
    "])"
   ]
  },
  {
   "cell_type": "code",
   "execution_count": 44,
   "id": "ae13a71f-aeb0-4f26-9997-576d9b7af183",
   "metadata": {},
   "outputs": [],
   "source": [
    "dataset = Dataset()\n",
    "dataset.fit(user_ids, rest_ids)\n",
    "\n",
    "unique_features = set()\n",
    "for row in df_rest['item_feature_str']:\n",
    "    unique_features.update(row.split('|'))\n",
    "dataset.fit_partial(items=rest_ids, item_features=unique_features)"
   ]
  },
  {
   "cell_type": "code",
   "execution_count": 11,
   "id": "3b24710d-434b-4f43-a4ad-fb6185e527bc",
   "metadata": {},
   "outputs": [
    {
     "data": {
      "text/plain": [
       "<lightfm.lightfm.LightFM at 0x12098ec80>"
      ]
     },
     "execution_count": 11,
     "metadata": {},
     "output_type": "execute_result"
    }
   ],
   "source": [
    "model = LightFM(loss='warp', no_components=32, learning_rate=0.03, learning_schedule='adadelta')\n",
    "model.fit(interactions_matrix, item_features=item_features_matrix, epochs=120)"
   ]
  },
  {
   "cell_type": "code",
   "execution_count": 21,
   "id": "87f9c54f-6944-42f4-99ea-bd8fb77f24fe",
   "metadata": {},
   "outputs": [],
   "source": [
    "def precision_at_k_unseen(model, interactions_matrix, k=10, item_features=None):\n",
    "    precisions = []\n",
    "    for user_idx in range(interactions_matrix.shape[0]):\n",
    "        user_id = index_to_user[user_idx]\n",
    "        seen = user_history.get(user_id, set())\n",
    "        seen_indices = {rest_to_index[r] for r in seen if r in rest_to_index}\n",
    "\n",
    "        scores = model.predict(user_idx, np.arange(len(rest_ids)), item_features=item_features)\n",
    "        sorted_items = np.argsort(-scores)\n",
    "\n",
    "        filtered_items = [i for i in sorted_items if i not in seen_indices][:k]\n",
    "\n",
    "        actual_interacted = set(np.nonzero(interactions_matrix.tocsr()[user_idx])[1])\n",
    "        relevant_unseen = actual_interacted - seen_indices\n",
    "\n",
    "        hits = sum([1 for item in filtered_items if item in relevant_unseen])\n",
    "        precisions.append(hits / k)\n",
    "\n",
    "    return np.mean(precisions)"
   ]
  },
  {
   "cell_type": "code",
   "execution_count": 23,
   "id": "6f2717ab-3f3c-4224-ac6d-101bf8e5cdda",
   "metadata": {},
   "outputs": [
    {
     "name": "stdout",
     "output_type": "stream",
     "text": [
      "Filtered Precision@10: 0.0000\n",
      "Filtered Precision@15: 0.0000\n",
      "Recall@5: 0.9444967808031103\n",
      "AUC Score: 0.9997671\n"
     ]
    }
   ],
   "source": [
    "print(f\"Filtered Precision@10: {precision_at_k_unseen(model, interactions_matrix, k=10, item_features=item_features_matrix):.4f}\")\n",
    "print(f\"Filtered Precision@15: {precision_at_k_unseen(model, interactions_matrix, k=15, item_features=item_features_matrix):.4f}\")\n",
    "print(\"Recall@5:\", recall_at_k(model, interactions_matrix, k=5, item_features=item_features_matrix).mean())\n",
    "print(\"AUC Score:\", auc_score(model, interactions_matrix, item_features=item_features_matrix).mean())"
   ]
  },
  {
   "cell_type": "code",
   "execution_count": 25,
   "id": "dc7b1de8-a2fb-482b-ad93-e4b72dd93427",
   "metadata": {},
   "outputs": [
    {
     "name": "stdout",
     "output_type": "stream",
     "text": [
      "Precision@1: 0.8719\n",
      "Precision@3: 0.3900\n",
      "Precision@5: 0.2551\n",
      "Precision@10: 0.1375\n",
      "Recall@5: 0.9444967808031103\n",
      "AUC Score: 0.9997671\n"
     ]
    }
   ],
   "source": [
    "for k in [1, 3, 5, 10]:\n",
    "    precision = precision_at_k(model, interactions_matrix, k=k, item_features=item_features_matrix).mean()\n",
    "    print(f\"Precision@{k}: {precision:.4f}\")\n",
    "print(\"Recall@5:\", recall_at_k(model, interactions_matrix, k=5, item_features=item_features_matrix).mean())\n",
    "print(\"AUC Score:\", auc_score(model, interactions_matrix, item_features=item_features_matrix).mean())"
   ]
  },
  {
   "cell_type": "code",
   "execution_count": 27,
   "id": "3ddc595a-bb58-4e8f-adb5-fa4538b8acbb",
   "metadata": {},
   "outputs": [],
   "source": [
    "user_id_to_name = df_reviews.drop_duplicates('user_id')[['user_id', 'user_name']].set_index('user_id')['user_name'].to_dict()\n",
    "rest_id_to_name = df_rest.set_index('id')['name'].to_dict()\n",
    "user_history = df_reviews.groupby('user_id')['restaurant_id'].apply(set).to_dict()\n",
    "\n",
    "def recommend_top_k(model, user_id, user_to_index, index_to_rest, item_features_matrix, k=5):\n",
    "    if user_id not in user_to_index:\n",
    "        return []\n",
    "    user_idx = user_to_index[user_id]\n",
    "    scores = model.predict(user_idx, np.arange(len(rest_ids)), item_features=item_features_matrix)\n",
    "    seen = user_history.get(user_id, set())\n",
    "    sorted_items = np.argsort(-scores)\n",
    "    filtered = [index_to_rest[i] for i in sorted_items if index_to_rest[i] not in seen]\n",
    "    return filtered[:k]"
   ]
  },
  {
   "cell_type": "code",
   "execution_count": 29,
   "id": "e33807da-6154-4a18-9792-d6d5c15d7921",
   "metadata": {},
   "outputs": [],
   "source": [
    "results = []\n",
    "for user_id in user_ids:\n",
    "    top_k = recommend_top_k(model, user_id, user_to_index, index_to_rest, item_features_matrix, k=5)\n",
    "    for rank, rest_id in enumerate(top_k, start=1):\n",
    "        results.append({\n",
    "            \"user_id\": user_id,\n",
    "            \"user_name\": user_id_to_name.get(user_id, \"Unknown\"),\n",
    "            \"rank\": rank,\n",
    "            \"recommended_restaurant_id\": rest_id,\n",
    "            \"restaurant_name\": rest_id_to_name.get(rest_id, \"Unknown\")\n",
    "        })\n",
    "\n",
    "recommendation_df = pd.DataFrame(results)\n",
    "final_output = recommendation_df[['user_name', 'rank', 'restaurant_name']]"
   ]
  },
  {
   "cell_type": "code",
   "execution_count": 30,
   "id": "c693af1b-4572-4594-830a-61539f3a2820",
   "metadata": {},
   "outputs": [
    {
     "data": {
      "text/html": [
       "<div>\n",
       "<style scoped>\n",
       "    .dataframe tbody tr th:only-of-type {\n",
       "        vertical-align: middle;\n",
       "    }\n",
       "\n",
       "    .dataframe tbody tr th {\n",
       "        vertical-align: top;\n",
       "    }\n",
       "\n",
       "    .dataframe thead th {\n",
       "        text-align: right;\n",
       "    }\n",
       "</style>\n",
       "<table border=\"1\" class=\"dataframe\">\n",
       "  <thead>\n",
       "    <tr style=\"text-align: right;\">\n",
       "      <th></th>\n",
       "      <th>user_name</th>\n",
       "      <th>rank</th>\n",
       "      <th>restaurant_name</th>\n",
       "    </tr>\n",
       "  </thead>\n",
       "  <tbody>\n",
       "    <tr>\n",
       "      <th>0</th>\n",
       "      <td>Tatyana M.</td>\n",
       "      <td>1</td>\n",
       "      <td>Jimmy John's</td>\n",
       "    </tr>\n",
       "    <tr>\n",
       "      <th>1</th>\n",
       "      <td>Tatyana M.</td>\n",
       "      <td>2</td>\n",
       "      <td>Shark's Fish</td>\n",
       "    </tr>\n",
       "    <tr>\n",
       "      <th>2</th>\n",
       "      <td>Tatyana M.</td>\n",
       "      <td>3</td>\n",
       "      <td>The Walnut Room</td>\n",
       "    </tr>\n",
       "    <tr>\n",
       "      <th>3</th>\n",
       "      <td>Tatyana M.</td>\n",
       "      <td>4</td>\n",
       "      <td>Mahari</td>\n",
       "    </tr>\n",
       "    <tr>\n",
       "      <th>4</th>\n",
       "      <td>Tatyana M.</td>\n",
       "      <td>5</td>\n",
       "      <td>Jordyn's Soul Cafe</td>\n",
       "    </tr>\n",
       "    <tr>\n",
       "      <th>...</th>\n",
       "      <td>...</td>\n",
       "      <td>...</td>\n",
       "      <td>...</td>\n",
       "    </tr>\n",
       "    <tr>\n",
       "      <th>47460</th>\n",
       "      <td>Donny F.</td>\n",
       "      <td>1</td>\n",
       "      <td>Primos Chicago Pizza</td>\n",
       "    </tr>\n",
       "    <tr>\n",
       "      <th>47461</th>\n",
       "      <td>Donny F.</td>\n",
       "      <td>2</td>\n",
       "      <td>Giordano's</td>\n",
       "    </tr>\n",
       "    <tr>\n",
       "      <th>47462</th>\n",
       "      <td>Donny F.</td>\n",
       "      <td>3</td>\n",
       "      <td>Nesh Mediterranean Grill</td>\n",
       "    </tr>\n",
       "    <tr>\n",
       "      <th>47463</th>\n",
       "      <td>Donny F.</td>\n",
       "      <td>4</td>\n",
       "      <td>Thai Spoon &amp; Sushi</td>\n",
       "    </tr>\n",
       "    <tr>\n",
       "      <th>47464</th>\n",
       "      <td>Donny F.</td>\n",
       "      <td>5</td>\n",
       "      <td>India House Restaurant</td>\n",
       "    </tr>\n",
       "  </tbody>\n",
       "</table>\n",
       "<p>47465 rows × 3 columns</p>\n",
       "</div>"
      ],
      "text/plain": [
       "        user_name  rank           restaurant_name\n",
       "0      Tatyana M.     1              Jimmy John's\n",
       "1      Tatyana M.     2              Shark's Fish\n",
       "2      Tatyana M.     3           The Walnut Room\n",
       "3      Tatyana M.     4                    Mahari\n",
       "4      Tatyana M.     5        Jordyn's Soul Cafe\n",
       "...           ...   ...                       ...\n",
       "47460    Donny F.     1      Primos Chicago Pizza\n",
       "47461    Donny F.     2                Giordano's\n",
       "47462    Donny F.     3  Nesh Mediterranean Grill\n",
       "47463    Donny F.     4        Thai Spoon & Sushi\n",
       "47464    Donny F.     5    India House Restaurant\n",
       "\n",
       "[47465 rows x 3 columns]"
      ]
     },
     "execution_count": 30,
     "metadata": {},
     "output_type": "execute_result"
    }
   ],
   "source": [
    "final_output"
   ]
  },
  {
   "cell_type": "code",
   "execution_count": null,
   "id": "d03d96bf-1444-47ab-8ab2-0029253e8973",
   "metadata": {},
   "outputs": [],
   "source": []
  }
 ],
 "metadata": {
  "kernelspec": {
   "display_name": "Python (finrl_env_310)",
   "language": "python",
   "name": "finrl_env_310"
  },
  "language_info": {
   "codemirror_mode": {
    "name": "ipython",
    "version": 3
   },
   "file_extension": ".py",
   "mimetype": "text/x-python",
   "name": "python",
   "nbconvert_exporter": "python",
   "pygments_lexer": "ipython3",
   "version": "3.10.16"
  }
 },
 "nbformat": 4,
 "nbformat_minor": 5
}
