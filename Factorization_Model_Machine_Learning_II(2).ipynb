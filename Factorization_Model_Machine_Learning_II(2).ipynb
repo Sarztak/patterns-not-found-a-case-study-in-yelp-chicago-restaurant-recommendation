{
  "nbformat": 4,
  "nbformat_minor": 0,
  "metadata": {
    "colab": {
      "provenance": [],
      "toc_visible": true,
      "authorship_tag": "ABX9TyPjnQ9gDMIjF28rUol2/pP0",
      "include_colab_link": true
    },
    "kernelspec": {
      "name": "python3",
      "display_name": "Python 3"
    },
    "language_info": {
      "name": "python"
    }
  },
  "cells": [
    {
      "cell_type": "markdown",
      "metadata": {
        "id": "view-in-github",
        "colab_type": "text"
      },
      "source": [
        "<a href=\"https://colab.research.google.com/github/Sarztak/WindyGraph-A-graph-based-recommender-for-restaurants-in-Chicago/blob/main/Factorization_Model_Machine_Learning_II.ipynb\" target=\"_parent\"><img src=\"https://colab.research.google.com/assets/colab-badge.svg\" alt=\"Open In Colab\"/></a>"
      ]
    },
    {
      "cell_type": "code",
      "source": [
        "from google.colab import files\n",
        "\n",
        "uploaded = files.upload()\n"
      ],
      "metadata": {
        "colab": {
          "base_uri": "https://localhost:8080/",
          "height": 73
        },
        "id": "CrZ4PEKmqVEQ",
        "outputId": "615bc74a-4973-4376-fae4-b54244a772b1"
      },
      "execution_count": null,
      "outputs": [
        {
          "output_type": "display_data",
          "data": {
            "text/plain": [
              "<IPython.core.display.HTML object>"
            ],
            "text/html": [
              "\n",
              "     <input type=\"file\" id=\"files-39eed9f4-ce84-407d-b516-2fb0ce7c3be6\" name=\"files[]\" multiple disabled\n",
              "        style=\"border:none\" />\n",
              "     <output id=\"result-39eed9f4-ce84-407d-b516-2fb0ce7c3be6\">\n",
              "      Upload widget is only available when the cell has been executed in the\n",
              "      current browser session. Please rerun this cell to enable.\n",
              "      </output>\n",
              "      <script>// Copyright 2017 Google LLC\n",
              "//\n",
              "// Licensed under the Apache License, Version 2.0 (the \"License\");\n",
              "// you may not use this file except in compliance with the License.\n",
              "// You may obtain a copy of the License at\n",
              "//\n",
              "//      http://www.apache.org/licenses/LICENSE-2.0\n",
              "//\n",
              "// Unless required by applicable law or agreed to in writing, software\n",
              "// distributed under the License is distributed on an \"AS IS\" BASIS,\n",
              "// WITHOUT WARRANTIES OR CONDITIONS OF ANY KIND, either express or implied.\n",
              "// See the License for the specific language governing permissions and\n",
              "// limitations under the License.\n",
              "\n",
              "/**\n",
              " * @fileoverview Helpers for google.colab Python module.\n",
              " */\n",
              "(function(scope) {\n",
              "function span(text, styleAttributes = {}) {\n",
              "  const element = document.createElement('span');\n",
              "  element.textContent = text;\n",
              "  for (const key of Object.keys(styleAttributes)) {\n",
              "    element.style[key] = styleAttributes[key];\n",
              "  }\n",
              "  return element;\n",
              "}\n",
              "\n",
              "// Max number of bytes which will be uploaded at a time.\n",
              "const MAX_PAYLOAD_SIZE = 100 * 1024;\n",
              "\n",
              "function _uploadFiles(inputId, outputId) {\n",
              "  const steps = uploadFilesStep(inputId, outputId);\n",
              "  const outputElement = document.getElementById(outputId);\n",
              "  // Cache steps on the outputElement to make it available for the next call\n",
              "  // to uploadFilesContinue from Python.\n",
              "  outputElement.steps = steps;\n",
              "\n",
              "  return _uploadFilesContinue(outputId);\n",
              "}\n",
              "\n",
              "// This is roughly an async generator (not supported in the browser yet),\n",
              "// where there are multiple asynchronous steps and the Python side is going\n",
              "// to poll for completion of each step.\n",
              "// This uses a Promise to block the python side on completion of each step,\n",
              "// then passes the result of the previous step as the input to the next step.\n",
              "function _uploadFilesContinue(outputId) {\n",
              "  const outputElement = document.getElementById(outputId);\n",
              "  const steps = outputElement.steps;\n",
              "\n",
              "  const next = steps.next(outputElement.lastPromiseValue);\n",
              "  return Promise.resolve(next.value.promise).then((value) => {\n",
              "    // Cache the last promise value to make it available to the next\n",
              "    // step of the generator.\n",
              "    outputElement.lastPromiseValue = value;\n",
              "    return next.value.response;\n",
              "  });\n",
              "}\n",
              "\n",
              "/**\n",
              " * Generator function which is called between each async step of the upload\n",
              " * process.\n",
              " * @param {string} inputId Element ID of the input file picker element.\n",
              " * @param {string} outputId Element ID of the output display.\n",
              " * @return {!Iterable<!Object>} Iterable of next steps.\n",
              " */\n",
              "function* uploadFilesStep(inputId, outputId) {\n",
              "  const inputElement = document.getElementById(inputId);\n",
              "  inputElement.disabled = false;\n",
              "\n",
              "  const outputElement = document.getElementById(outputId);\n",
              "  outputElement.innerHTML = '';\n",
              "\n",
              "  const pickedPromise = new Promise((resolve) => {\n",
              "    inputElement.addEventListener('change', (e) => {\n",
              "      resolve(e.target.files);\n",
              "    });\n",
              "  });\n",
              "\n",
              "  const cancel = document.createElement('button');\n",
              "  inputElement.parentElement.appendChild(cancel);\n",
              "  cancel.textContent = 'Cancel upload';\n",
              "  const cancelPromise = new Promise((resolve) => {\n",
              "    cancel.onclick = () => {\n",
              "      resolve(null);\n",
              "    };\n",
              "  });\n",
              "\n",
              "  // Wait for the user to pick the files.\n",
              "  const files = yield {\n",
              "    promise: Promise.race([pickedPromise, cancelPromise]),\n",
              "    response: {\n",
              "      action: 'starting',\n",
              "    }\n",
              "  };\n",
              "\n",
              "  cancel.remove();\n",
              "\n",
              "  // Disable the input element since further picks are not allowed.\n",
              "  inputElement.disabled = true;\n",
              "\n",
              "  if (!files) {\n",
              "    return {\n",
              "      response: {\n",
              "        action: 'complete',\n",
              "      }\n",
              "    };\n",
              "  }\n",
              "\n",
              "  for (const file of files) {\n",
              "    const li = document.createElement('li');\n",
              "    li.append(span(file.name, {fontWeight: 'bold'}));\n",
              "    li.append(span(\n",
              "        `(${file.type || 'n/a'}) - ${file.size} bytes, ` +\n",
              "        `last modified: ${\n",
              "            file.lastModifiedDate ? file.lastModifiedDate.toLocaleDateString() :\n",
              "                                    'n/a'} - `));\n",
              "    const percent = span('0% done');\n",
              "    li.appendChild(percent);\n",
              "\n",
              "    outputElement.appendChild(li);\n",
              "\n",
              "    const fileDataPromise = new Promise((resolve) => {\n",
              "      const reader = new FileReader();\n",
              "      reader.onload = (e) => {\n",
              "        resolve(e.target.result);\n",
              "      };\n",
              "      reader.readAsArrayBuffer(file);\n",
              "    });\n",
              "    // Wait for the data to be ready.\n",
              "    let fileData = yield {\n",
              "      promise: fileDataPromise,\n",
              "      response: {\n",
              "        action: 'continue',\n",
              "      }\n",
              "    };\n",
              "\n",
              "    // Use a chunked sending to avoid message size limits. See b/62115660.\n",
              "    let position = 0;\n",
              "    do {\n",
              "      const length = Math.min(fileData.byteLength - position, MAX_PAYLOAD_SIZE);\n",
              "      const chunk = new Uint8Array(fileData, position, length);\n",
              "      position += length;\n",
              "\n",
              "      const base64 = btoa(String.fromCharCode.apply(null, chunk));\n",
              "      yield {\n",
              "        response: {\n",
              "          action: 'append',\n",
              "          file: file.name,\n",
              "          data: base64,\n",
              "        },\n",
              "      };\n",
              "\n",
              "      let percentDone = fileData.byteLength === 0 ?\n",
              "          100 :\n",
              "          Math.round((position / fileData.byteLength) * 100);\n",
              "      percent.textContent = `${percentDone}% done`;\n",
              "\n",
              "    } while (position < fileData.byteLength);\n",
              "  }\n",
              "\n",
              "  // All done.\n",
              "  yield {\n",
              "    response: {\n",
              "      action: 'complete',\n",
              "    }\n",
              "  };\n",
              "}\n",
              "\n",
              "scope.google = scope.google || {};\n",
              "scope.google.colab = scope.google.colab || {};\n",
              "scope.google.colab._files = {\n",
              "  _uploadFiles,\n",
              "  _uploadFilesContinue,\n",
              "};\n",
              "})(self);\n",
              "</script> "
            ]
          },
          "metadata": {}
        },
        {
          "output_type": "stream",
          "name": "stdout",
          "text": [
            "Saving processed_restaurant_data.pkl to processed_restaurant_data (2).pkl\n"
          ]
        }
      ]
    },
    {
      "cell_type": "code",
      "source": [
        "from google.colab import files\n",
        "\n",
        "uploaded = files.upload()\n"
      ],
      "metadata": {
        "colab": {
          "base_uri": "https://localhost:8080/",
          "height": 73
        },
        "id": "dghUy3lYvWQj",
        "outputId": "87050737-95e5-4d6a-cff0-31a2a1cce4b2"
      },
      "execution_count": null,
      "outputs": [
        {
          "output_type": "display_data",
          "data": {
            "text/plain": [
              "<IPython.core.display.HTML object>"
            ],
            "text/html": [
              "\n",
              "     <input type=\"file\" id=\"files-8173f4ab-50de-4ad8-92fc-f43e2de39648\" name=\"files[]\" multiple disabled\n",
              "        style=\"border:none\" />\n",
              "     <output id=\"result-8173f4ab-50de-4ad8-92fc-f43e2de39648\">\n",
              "      Upload widget is only available when the cell has been executed in the\n",
              "      current browser session. Please rerun this cell to enable.\n",
              "      </output>\n",
              "      <script>// Copyright 2017 Google LLC\n",
              "//\n",
              "// Licensed under the Apache License, Version 2.0 (the \"License\");\n",
              "// you may not use this file except in compliance with the License.\n",
              "// You may obtain a copy of the License at\n",
              "//\n",
              "//      http://www.apache.org/licenses/LICENSE-2.0\n",
              "//\n",
              "// Unless required by applicable law or agreed to in writing, software\n",
              "// distributed under the License is distributed on an \"AS IS\" BASIS,\n",
              "// WITHOUT WARRANTIES OR CONDITIONS OF ANY KIND, either express or implied.\n",
              "// See the License for the specific language governing permissions and\n",
              "// limitations under the License.\n",
              "\n",
              "/**\n",
              " * @fileoverview Helpers for google.colab Python module.\n",
              " */\n",
              "(function(scope) {\n",
              "function span(text, styleAttributes = {}) {\n",
              "  const element = document.createElement('span');\n",
              "  element.textContent = text;\n",
              "  for (const key of Object.keys(styleAttributes)) {\n",
              "    element.style[key] = styleAttributes[key];\n",
              "  }\n",
              "  return element;\n",
              "}\n",
              "\n",
              "// Max number of bytes which will be uploaded at a time.\n",
              "const MAX_PAYLOAD_SIZE = 100 * 1024;\n",
              "\n",
              "function _uploadFiles(inputId, outputId) {\n",
              "  const steps = uploadFilesStep(inputId, outputId);\n",
              "  const outputElement = document.getElementById(outputId);\n",
              "  // Cache steps on the outputElement to make it available for the next call\n",
              "  // to uploadFilesContinue from Python.\n",
              "  outputElement.steps = steps;\n",
              "\n",
              "  return _uploadFilesContinue(outputId);\n",
              "}\n",
              "\n",
              "// This is roughly an async generator (not supported in the browser yet),\n",
              "// where there are multiple asynchronous steps and the Python side is going\n",
              "// to poll for completion of each step.\n",
              "// This uses a Promise to block the python side on completion of each step,\n",
              "// then passes the result of the previous step as the input to the next step.\n",
              "function _uploadFilesContinue(outputId) {\n",
              "  const outputElement = document.getElementById(outputId);\n",
              "  const steps = outputElement.steps;\n",
              "\n",
              "  const next = steps.next(outputElement.lastPromiseValue);\n",
              "  return Promise.resolve(next.value.promise).then((value) => {\n",
              "    // Cache the last promise value to make it available to the next\n",
              "    // step of the generator.\n",
              "    outputElement.lastPromiseValue = value;\n",
              "    return next.value.response;\n",
              "  });\n",
              "}\n",
              "\n",
              "/**\n",
              " * Generator function which is called between each async step of the upload\n",
              " * process.\n",
              " * @param {string} inputId Element ID of the input file picker element.\n",
              " * @param {string} outputId Element ID of the output display.\n",
              " * @return {!Iterable<!Object>} Iterable of next steps.\n",
              " */\n",
              "function* uploadFilesStep(inputId, outputId) {\n",
              "  const inputElement = document.getElementById(inputId);\n",
              "  inputElement.disabled = false;\n",
              "\n",
              "  const outputElement = document.getElementById(outputId);\n",
              "  outputElement.innerHTML = '';\n",
              "\n",
              "  const pickedPromise = new Promise((resolve) => {\n",
              "    inputElement.addEventListener('change', (e) => {\n",
              "      resolve(e.target.files);\n",
              "    });\n",
              "  });\n",
              "\n",
              "  const cancel = document.createElement('button');\n",
              "  inputElement.parentElement.appendChild(cancel);\n",
              "  cancel.textContent = 'Cancel upload';\n",
              "  const cancelPromise = new Promise((resolve) => {\n",
              "    cancel.onclick = () => {\n",
              "      resolve(null);\n",
              "    };\n",
              "  });\n",
              "\n",
              "  // Wait for the user to pick the files.\n",
              "  const files = yield {\n",
              "    promise: Promise.race([pickedPromise, cancelPromise]),\n",
              "    response: {\n",
              "      action: 'starting',\n",
              "    }\n",
              "  };\n",
              "\n",
              "  cancel.remove();\n",
              "\n",
              "  // Disable the input element since further picks are not allowed.\n",
              "  inputElement.disabled = true;\n",
              "\n",
              "  if (!files) {\n",
              "    return {\n",
              "      response: {\n",
              "        action: 'complete',\n",
              "      }\n",
              "    };\n",
              "  }\n",
              "\n",
              "  for (const file of files) {\n",
              "    const li = document.createElement('li');\n",
              "    li.append(span(file.name, {fontWeight: 'bold'}));\n",
              "    li.append(span(\n",
              "        `(${file.type || 'n/a'}) - ${file.size} bytes, ` +\n",
              "        `last modified: ${\n",
              "            file.lastModifiedDate ? file.lastModifiedDate.toLocaleDateString() :\n",
              "                                    'n/a'} - `));\n",
              "    const percent = span('0% done');\n",
              "    li.appendChild(percent);\n",
              "\n",
              "    outputElement.appendChild(li);\n",
              "\n",
              "    const fileDataPromise = new Promise((resolve) => {\n",
              "      const reader = new FileReader();\n",
              "      reader.onload = (e) => {\n",
              "        resolve(e.target.result);\n",
              "      };\n",
              "      reader.readAsArrayBuffer(file);\n",
              "    });\n",
              "    // Wait for the data to be ready.\n",
              "    let fileData = yield {\n",
              "      promise: fileDataPromise,\n",
              "      response: {\n",
              "        action: 'continue',\n",
              "      }\n",
              "    };\n",
              "\n",
              "    // Use a chunked sending to avoid message size limits. See b/62115660.\n",
              "    let position = 0;\n",
              "    do {\n",
              "      const length = Math.min(fileData.byteLength - position, MAX_PAYLOAD_SIZE);\n",
              "      const chunk = new Uint8Array(fileData, position, length);\n",
              "      position += length;\n",
              "\n",
              "      const base64 = btoa(String.fromCharCode.apply(null, chunk));\n",
              "      yield {\n",
              "        response: {\n",
              "          action: 'append',\n",
              "          file: file.name,\n",
              "          data: base64,\n",
              "        },\n",
              "      };\n",
              "\n",
              "      let percentDone = fileData.byteLength === 0 ?\n",
              "          100 :\n",
              "          Math.round((position / fileData.byteLength) * 100);\n",
              "      percent.textContent = `${percentDone}% done`;\n",
              "\n",
              "    } while (position < fileData.byteLength);\n",
              "  }\n",
              "\n",
              "  // All done.\n",
              "  yield {\n",
              "    response: {\n",
              "      action: 'complete',\n",
              "    }\n",
              "  };\n",
              "}\n",
              "\n",
              "scope.google = scope.google || {};\n",
              "scope.google.colab = scope.google.colab || {};\n",
              "scope.google.colab._files = {\n",
              "  _uploadFiles,\n",
              "  _uploadFilesContinue,\n",
              "};\n",
              "})(self);\n",
              "</script> "
            ]
          },
          "metadata": {}
        },
        {
          "output_type": "stream",
          "name": "stdout",
          "text": [
            "Saving processed_review_data.pkl to processed_review_data (3).pkl\n"
          ]
        }
      ]
    },
    {
      "cell_type": "code",
      "source": [
        "!pip install lightfm"
      ],
      "metadata": {
        "colab": {
          "base_uri": "https://localhost:8080/"
        },
        "id": "8FcreV3Hdsrw",
        "outputId": "dc502025-dd0c-473a-c157-e63fefdbe0c0"
      },
      "execution_count": null,
      "outputs": [
        {
          "output_type": "stream",
          "name": "stdout",
          "text": [
            "Requirement already satisfied: lightfm in /usr/local/lib/python3.11/dist-packages (1.17)\n",
            "Requirement already satisfied: numpy in /usr/local/lib/python3.11/dist-packages (from lightfm) (2.2.6)\n",
            "Requirement already satisfied: scipy>=0.17.0 in /usr/local/lib/python3.11/dist-packages (from lightfm) (1.15.3)\n",
            "Requirement already satisfied: requests in /usr/local/lib/python3.11/dist-packages (from lightfm) (2.32.3)\n",
            "Requirement already satisfied: scikit-learn in /usr/local/lib/python3.11/dist-packages (from lightfm) (1.6.1)\n",
            "Requirement already satisfied: charset-normalizer<4,>=2 in /usr/local/lib/python3.11/dist-packages (from requests->lightfm) (3.4.2)\n",
            "Requirement already satisfied: idna<4,>=2.5 in /usr/local/lib/python3.11/dist-packages (from requests->lightfm) (3.10)\n",
            "Requirement already satisfied: urllib3<3,>=1.21.1 in /usr/local/lib/python3.11/dist-packages (from requests->lightfm) (2.4.0)\n",
            "Requirement already satisfied: certifi>=2017.4.17 in /usr/local/lib/python3.11/dist-packages (from requests->lightfm) (2025.4.26)\n",
            "Requirement already satisfied: joblib>=1.2.0 in /usr/local/lib/python3.11/dist-packages (from scikit-learn->lightfm) (1.5.0)\n",
            "Requirement already satisfied: threadpoolctl>=3.1.0 in /usr/local/lib/python3.11/dist-packages (from scikit-learn->lightfm) (3.6.0)\n"
          ]
        }
      ]
    },
    {
      "cell_type": "code",
      "source": [
        "!pip install numpy==1.24.4 scikit-surprise\n"
      ],
      "metadata": {
        "colab": {
          "base_uri": "https://localhost:8080/"
        },
        "id": "7eL9dBVC6BsJ",
        "outputId": "82be0c2f-01b4-49ee-e73a-512c606d31eb"
      },
      "execution_count": null,
      "outputs": [
        {
          "output_type": "stream",
          "name": "stdout",
          "text": [
            "Requirement already satisfied: numpy==1.24.4 in /usr/local/lib/python3.11/dist-packages (1.24.4)\n",
            "Requirement already satisfied: scikit-surprise in /usr/local/lib/python3.11/dist-packages (1.1.4)\n",
            "Requirement already satisfied: joblib>=1.2.0 in /usr/local/lib/python3.11/dist-packages (from scikit-surprise) (1.5.0)\n",
            "Requirement already satisfied: scipy>=1.6.0 in /usr/local/lib/python3.11/dist-packages (from scikit-surprise) (1.15.3)\n"
          ]
        }
      ]
    },
    {
      "cell_type": "code",
      "source": [
        "!pip install numpy"
      ],
      "metadata": {
        "colab": {
          "base_uri": "https://localhost:8080/"
        },
        "id": "ppvWG6vW74LQ",
        "outputId": "15d43299-5f55-4c53-e270-21be4cdfc295"
      },
      "execution_count": null,
      "outputs": [
        {
          "output_type": "stream",
          "name": "stdout",
          "text": [
            "Requirement already satisfied: numpy in /usr/local/lib/python3.11/dist-packages (2.2.6)\n"
          ]
        }
      ]
    },
    {
      "cell_type": "code",
      "source": [
        "import pandas as pd\n",
        "\n",
        "review_restaurantdata = pd.read_pickle(\"processed_review_data.pkl\")\n",
        "restaurant_data = pd.read_pickle(\"processed_restaurant_data.pkl\")\n"
      ],
      "metadata": {
        "id": "khSLcz0pE-jf"
      },
      "execution_count": null,
      "outputs": []
    },
    {
      "cell_type": "code",
      "source": [
        "# Merge on restaurant_id (review_restaurantdata) and id (restaurant_data)\n",
        "merge_reviewndata = review_restaurantdata.merge(restaurant_data[['id', 'categories_list']], left_on='restaurant_id', right_on='id')\n",
        "\n",
        "# Prepare interaction dataset: user_id, restaurant_id, rating, categories_list\n",
        "merge_reviewndata = merge_reviewndata[['user_id', 'restaurant_id', 'rating', 'categories_list']].dropna()\n",
        "\n",
        "merge_reviewndata['categories_list'] = merge_reviewndata['categories_list']\n",
        "\n",
        "# Faster training\n",
        "merge_reviewndata = merge_reviewndata.sample(n=5000, random_state=123)\n"
      ],
      "metadata": {
        "id": "IAlD2NuKvurP"
      },
      "execution_count": null,
      "outputs": []
    },
    {
      "cell_type": "code",
      "source": [
        "# Set up LightFM dataset\n",
        "from lightfm.data import Dataset\n",
        "dataset = Dataset()\n",
        "\n",
        "# Collect all features first\n",
        "all_features = set()\n",
        "\n",
        "for _, row in restaurant_data.iterrows():\n",
        "    features = row['categories_list'] + [\n",
        "        f\"pop_score:{row['popularity_score']:.2f}\",\n",
        "        f\"rating:{row['normalized_rating_restaurants']:.2f}\",\n",
        "        f\"log_reviews:{row['normalized_log_review_count']:.2f}\",\n",
        "        f\"loc_lat:{row['normalized_latitude']:.2f}\",\n",
        "        f\"loc_lon:{row['normalized_longitude']:.2f}\"\n",
        "    ]\n",
        "    all_features.update(features)\n",
        "\n",
        "# Re-fit dataset with all features\n",
        "dataset.fit(\n",
        "    users=merge_reviewndata['user_id'].unique(),           # review data user IDs\n",
        "    items=restaurant_data['id'].unique(),                  # include all restaurant IDs\n",
        "    item_features=all_features\n",
        ")\n"
      ],
      "metadata": {
        "id": "acGqDZ-8wXxP"
      },
      "execution_count": null,
      "outputs": []
    },
    {
      "cell_type": "code",
      "source": [
        "# Train the LightFM model\n",
        "from lightfm import LightFM\n",
        "model = LightFM(loss='warp', no_components=30)\n",
        "model.fit(interactions, item_features=item_features, epochs=10, num_threads=4)\n"
      ],
      "metadata": {
        "colab": {
          "base_uri": "https://localhost:8080/"
        },
        "id": "XRuEe1o6wiO7",
        "outputId": "cf193fd5-d830-4226-b4f4-7bc216b17bbf"
      },
      "execution_count": null,
      "outputs": [
        {
          "output_type": "execute_result",
          "data": {
            "text/plain": [
              "<lightfm.lightfm.LightFM at 0x7b19d3b31c90>"
            ]
          },
          "metadata": {},
          "execution_count": 69
        }
      ]
    },
    {
      "cell_type": "code",
      "source": [
        "import pickle\n",
        "import joblib\n",
        "\n",
        "with open(\"lightfm_model.pkl\", \"wb\") as f:\n",
        "    pickle.dump(model, f)\n",
        "\n",
        "joblib.dump(dataset, \"lightfm_dataset.joblib\")\n",
        "joblib.dump(interactions, \"interactions_matrix.joblib\")\n",
        "joblib.dump(item_features, \"item_features_matrix.joblib\")\n",
        "\n",
        "print(\"files saved.\")\n"
      ],
      "metadata": {
        "colab": {
          "base_uri": "https://localhost:8080/"
        },
        "id": "ZM5xJwPKw7hp",
        "outputId": "4b1d574b-c8f7-4bbf-901b-b709dc2477e5"
      },
      "execution_count": null,
      "outputs": [
        {
          "output_type": "stream",
          "name": "stdout",
          "text": [
            "files saved.\n"
          ]
        }
      ]
    },
    {
      "cell_type": "code",
      "source": [
        "import pickle\n",
        "import joblib\n",
        "import numpy as np\n",
        "from lightfm import LightFM\n",
        "from lightfm.data import Dataset\n",
        "\n",
        "# Load saved model and components\n",
        "with open(\"lightfm_model.pkl\", \"rb\") as f:\n",
        "    model = pickle.load(f)\n",
        "\n",
        "dataset = joblib.load(\"lightfm_dataset.joblib\")\n",
        "interactions = joblib.load(\"interactions_matrix.joblib\")\n",
        "item_features = joblib.load(\"item_features_matrix.joblib\")\n",
        "\n",
        "user_id_map = dataset.mapping()[0]\n",
        "item_id_map = dataset.mapping()[2]\n",
        "\n",
        "# Inverse maps\n",
        "id_to_user = {v: k for k, v in user_id_map.items()}\n",
        "id_to_item = {v: k for k, v in item_id_map.items()}\n",
        "\n",
        "def recommend_known_user(user_id_str, model, dataset, interactions, item_features, N=5):\n",
        "    user_id_map = dataset.mapping()[0]\n",
        "    item_id_map = dataset.mapping()[2]\n",
        "    item_index_to_id = {v: k for k, v in item_id_map.items()}\n",
        "\n",
        "    try:\n",
        "        user_idx = user_id_map[user_id_str]\n",
        "    except KeyError:\n",
        "        print(f\"User ID '{user_id_str}' not found.\")\n",
        "        return []\n",
        "\n",
        "    n_items = interactions.shape[1]\n",
        "    scores = model.predict(user_ids=user_idx,\n",
        "                           item_ids=np.arange(n_items),\n",
        "                           item_features=item_features)\n",
        "\n",
        "    known_items = interactions.tocsr()[user_idx].indices\n",
        "    scores[known_items] = -np.inf\n",
        "\n",
        "    top_items = np.argsort(-scores)[:N]\n",
        "    return [item_index_to_id[i] for i in top_items]\n"
      ],
      "metadata": {
        "id": "tavk7yy8xoD8"
      },
      "execution_count": null,
      "outputs": []
    },
    {
      "cell_type": "code",
      "source": [
        "merge_reviewndata['user_id'].unique()[:10]\n"
      ],
      "metadata": {
        "colab": {
          "base_uri": "https://localhost:8080/"
        },
        "id": "jps3Ck7sEDCp",
        "outputId": "7a3b70c2-c0d4-431f-cea2-87c32dfb9dbe"
      },
      "execution_count": null,
      "outputs": [
        {
          "output_type": "execute_result",
          "data": {
            "text/plain": [
              "array(['thV5RSlc8l4QL6Jf4--PIw', 'VqjxVozyfl8-BVNZ5g3D8Q',\n",
              "       'RiB1mlLFirfWDqjTv09eAA', 'tH_RQBcxqYAmB-A4RVLHaw',\n",
              "       'Sw-IGWHmnXji2z43x4A5OA', 'Y_NVgxBRcII68dSuwfNHAQ',\n",
              "       'ukBY6FqUM0NCf7C1w8am1w', 'wrGhtevrzlMRcbGo72Aubg',\n",
              "       '3xUa12mLDyWAb3ht5iVW1w', '37RrURW8yCJoo1DEgdiiYg'], dtype=object)"
            ]
          },
          "metadata": {},
          "execution_count": 72
        }
      ]
    },
    {
      "cell_type": "code",
      "source": [
        "list(dataset.mapping()[0].keys())[:10]\n"
      ],
      "metadata": {
        "colab": {
          "base_uri": "https://localhost:8080/"
        },
        "id": "ghGA7P2TGh9E",
        "outputId": "e00a1fc9-147b-4f89-d0cf-2dfbd8bd3e9e"
      },
      "execution_count": null,
      "outputs": [
        {
          "output_type": "execute_result",
          "data": {
            "text/plain": [
              "['thV5RSlc8l4QL6Jf4--PIw',\n",
              " 'VqjxVozyfl8-BVNZ5g3D8Q',\n",
              " 'RiB1mlLFirfWDqjTv09eAA',\n",
              " 'tH_RQBcxqYAmB-A4RVLHaw',\n",
              " 'Sw-IGWHmnXji2z43x4A5OA',\n",
              " 'Y_NVgxBRcII68dSuwfNHAQ',\n",
              " 'ukBY6FqUM0NCf7C1w8am1w',\n",
              " 'wrGhtevrzlMRcbGo72Aubg',\n",
              " '3xUa12mLDyWAb3ht5iVW1w',\n",
              " '37RrURW8yCJoo1DEgdiiYg']"
            ]
          },
          "metadata": {},
          "execution_count": 73
        }
      ]
    },
    {
      "cell_type": "code",
      "source": [
        "user = \"RiB1mlLFirfWDqjTv09eAA\"\n",
        "\n",
        "# Generate recommendations\n",
        "recommended_items = recommend_known_user(\n",
        "    user, model, dataset, interactions, item_features, N=5\n",
        ")\n",
        "\n",
        "# Print recommendations with names\n",
        "print(f\"Top recommendations for user '{user}':\")\n",
        "for item_id in recommended_items:\n",
        "    name = id_to_name.get(item_id, \"[Unknown]\")\n",
        "    print(f\"- {name} (ID: {item_id})\")\n",
        "\n"
      ],
      "metadata": {
        "colab": {
          "base_uri": "https://localhost:8080/"
        },
        "id": "qHoNcuvFyb8D",
        "outputId": "8bf4360c-efdc-4d79-eb0e-b67562b9837f"
      },
      "execution_count": null,
      "outputs": [
        {
          "output_type": "stream",
          "name": "stdout",
          "text": [
            "Top recommendations for user 'RiB1mlLFirfWDqjTv09eAA':\n",
            "- Vincent Restaurant (ID: XVDQYUFhJ4Ur_92eVYs3CA)\n",
            "- Jermie Food Mart (ID: 1uFx_OTe0pFvBRuyADkF3Q)\n",
            "- Jerk & Soul Food (ID: gQkjAD_UzAyf4qCwKYB4zQ)\n",
            "- Buffalo Wild Wings (ID: GQO4bNj7UlQS14bZISAImw)\n",
            "- Babee's Spiritual Supply (ID: P4c-GUAlDRjAaHTzQ7DLmw)\n"
          ]
        }
      ]
    },
    {
      "cell_type": "code",
      "source": [
        "from lightfm.evaluation import precision_at_k\n",
        "\n",
        "precision = precision_at_k(model, interactions, k=5, item_features=item_features).mean()\n",
        "print(f\"Precision@5: {precision:.4f}\")\n",
        "\n"
      ],
      "metadata": {
        "colab": {
          "base_uri": "https://localhost:8080/"
        },
        "id": "Y-6bYGFo4USx",
        "outputId": "3dce8579-065b-4c6e-bb0f-59a8877e7e2e"
      },
      "execution_count": null,
      "outputs": [
        {
          "output_type": "stream",
          "name": "stdout",
          "text": [
            "Precision@5: 0.0458\n"
          ]
        }
      ]
    },
    {
      "cell_type": "code",
      "source": [
        "from lightfm.evaluation import recall_at_k\n",
        "\n",
        "recall = recall_at_k(model, interactions, k=5, item_features=item_features).mean()\n",
        "print(f\"Recall@5: {recall:.4f}\")\n"
      ],
      "metadata": {
        "colab": {
          "base_uri": "https://localhost:8080/"
        },
        "id": "yyBbZran2oWF",
        "outputId": "49975425-749e-4a3a-f9d8-d357feee0dca"
      },
      "execution_count": null,
      "outputs": [
        {
          "output_type": "stream",
          "name": "stdout",
          "text": [
            "Recall@5: 0.2046\n"
          ]
        }
      ]
    },
    {
      "cell_type": "code",
      "source": [
        "from lightfm.evaluation import auc_score\n",
        "\n",
        "auc = auc_score(model, interactions, item_features=item_features).mean()\n",
        "print(f\"AUC: {auc:.4f}\")\n"
      ],
      "metadata": {
        "colab": {
          "base_uri": "https://localhost:8080/"
        },
        "id": "0IVe6WT4Pf08",
        "outputId": "079b6776-645b-42d3-f3f4-f1cc22271a8f"
      },
      "execution_count": null,
      "outputs": [
        {
          "output_type": "stream",
          "name": "stdout",
          "text": [
            "AUC: 0.9837\n"
          ]
        }
      ]
    },
    {
      "cell_type": "code",
      "source": [
        "from lightfm.cross_validation import random_train_test_split\n",
        "\n",
        "train_interactions, test_interactions = random_train_test_split(interactions, test_percentage=0.3, random_state=123)\n"
      ],
      "metadata": {
        "id": "jFHtr6pXTDJG"
      },
      "execution_count": null,
      "outputs": []
    },
    {
      "cell_type": "code",
      "source": [
        "# Step 1: Re-fit Dataset with Feature Names to ensure full coverage\n",
        "dataset.fit(\n",
        "    users=merge_reviewndata['user_id'],\n",
        "    items=restaurant_data['id'],\n",
        "    item_features=set(\n",
        "        sum(restaurant_data['categories_list'], []) +\n",
        "        [f\"pop_score:{v:.2f}\" for v in restaurant_data['popularity_score']] +\n",
        "        [f\"rating:{v:.2f}\" for v in restaurant_data['normalized_rating_restaurants']] +\n",
        "        [f\"log_reviews:{v:.2f}\" for v in restaurant_data['normalized_log_review_count']] +\n",
        "        [f\"loc_lat:{v:.2f}\" for v in restaurant_data['normalized_latitude']] +\n",
        "        [f\"loc_lon:{v:.2f}\" for v in restaurant_data['normalized_longitude']]\n",
        "    )\n",
        ")\n",
        "\n",
        "# Step 2: Build item_features ONCE\n",
        "item_features = dataset.build_item_features([\n",
        "    (row['id'],\n",
        "     row['categories_list'] + [\n",
        "         f\"pop_score:{row['popularity_score']:.2f}\",\n",
        "         f\"rating:{row['normalized_rating_restaurants']:.2f}\",\n",
        "         f\"log_reviews:{row['normalized_log_review_count']:.2f}\",\n",
        "         f\"loc_lat:{row['normalized_latitude']:.2f}\",\n",
        "         f\"loc_lon:{row['normalized_longitude']:.2f}\"\n",
        "     ])\n",
        "    for _, row in restaurant_data.iterrows()\n",
        "])\n",
        "\n",
        "# Step 3: Train-test split\n",
        "from lightfm.cross_validation import random_train_test_split\n",
        "train_interactions, test_interactions = random_train_test_split(\n",
        "    interactions, test_percentage=0.2, random_state=123\n",
        ")\n",
        "\n",
        "# Step 4: Train model with tuned hyperparameters (boost latent factors and epochs)\n",
        "from lightfm import LightFM\n",
        "model = LightFM(loss='warp', no_components=100, learning_rate=10)\n",
        "model.fit(train_interactions, item_features=item_features, epochs=40, num_threads=4)\n",
        "\n",
        "# Step 5: Evaluate recall@10\n",
        "from lightfm.evaluation import recall_at_k\n",
        "recall = recall_at_k(model, test_interactions, item_features=item_features, k=10).mean()\n",
        "print(f\"Recall@10: {recall:.4f}\")\n"
      ],
      "metadata": {
        "colab": {
          "base_uri": "https://localhost:8080/"
        },
        "id": "FIz0UXY5X2BC",
        "outputId": "952ed760-4b21-49a6-b3aa-0bed1db90faa"
      },
      "execution_count": null,
      "outputs": [
        {
          "output_type": "stream",
          "name": "stdout",
          "text": [
            "Recall@10: 0.0032\n"
          ]
        }
      ]
    },
    {
      "cell_type": "code",
      "source": [
        "# Refit with binarized ratings\n",
        "merge_reviewndata['implicit_rating'] = (merge_reviewndata['rating'] >= 4).astype(int)\n",
        "(interactions, _) = dataset.build_interactions([\n",
        "    (row['user_id'], row['restaurant_id'], row['implicit_rating'])\n",
        "    for _, row in merge_reviewndata.iterrows()\n",
        "])\n",
        "\n",
        "# Model\n",
        "model = LightFM(loss='bpr', no_components=150, learning_rate=0.05)\n",
        "model.fit(train_interactions, item_features=item_features, epochs=60, num_threads=4)\n",
        "\n",
        "# Evaluate\n",
        "recall = recall_at_k(model, test_interactions, item_features=item_features, k=20).mean()\n",
        "print(f\"Recall@20: {recall:.4f}\")\n"
      ],
      "metadata": {
        "colab": {
          "base_uri": "https://localhost:8080/"
        },
        "id": "SKaifXqFbOln",
        "outputId": "25bc785d-d9b3-4128-db02-c9582efc9b92"
      },
      "execution_count": null,
      "outputs": [
        {
          "output_type": "stream",
          "name": "stdout",
          "text": [
            "Recall@20: 0.0011\n"
          ]
        }
      ]
    }
  ]
}