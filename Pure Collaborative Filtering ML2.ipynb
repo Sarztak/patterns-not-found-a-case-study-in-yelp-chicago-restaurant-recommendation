{
 "cells": [
  {
   "cell_type": "code",
   "execution_count": 1,
   "id": "d35bde90-6fbe-4e44-8d34-e48cadaf2eac",
   "metadata": {},
   "outputs": [
    {
     "name": "stderr",
     "output_type": "stream",
     "text": [
      "/opt/anaconda3/envs/finrl_env_310/lib/python3.10/site-packages/lightfm/_lightfm_fast.py:9: UserWarning: LightFM was compiled without OpenMP support. Only a single thread will be used.\n",
      "  warnings.warn(\n"
     ]
    }
   ],
   "source": [
    "import pandas as pd\n",
    "import numpy as np\n",
    "import pickle\n",
    "from scipy.sparse import coo_matrix\n",
    "from lightfm import LightFM\n",
    "from lightfm.data import Dataset\n",
    "from lightfm.evaluation import precision_at_k, recall_at_k, auc_score\n",
    "\n",
    "\n",
    "with open('processed_review_data.pkl', 'rb') as f:\n",
    "    df_reviews = pickle.load(f)"
   ]
  },
  {
   "cell_type": "code",
   "execution_count": 2,
   "id": "2a390b92-2915-40b7-9da1-4537a71c84f4",
   "metadata": {},
   "outputs": [],
   "source": [
    "user_ids = df_reviews['user_id'].unique()\n",
    "rest_ids = df_reviews['restaurant_id'].unique()\n",
    "user_to_index = {u: i for i, u in enumerate(user_ids)}\n",
    "rest_to_index = {r: i for i, r in enumerate(rest_ids)}\n",
    "index_to_user = {i: u for u, i in user_to_index.items()}\n",
    "index_to_rest = {i: r for r, i in rest_to_index.items()}"
   ]
  },
  {
   "cell_type": "code",
   "execution_count": 3,
   "id": "918d48fa-3781-47d5-b1b6-b24bd8157e83",
   "metadata": {},
   "outputs": [],
   "source": [
    "df_reviews['user_idx'] = df_reviews['user_id'].map(user_to_index)\n",
    "df_reviews['rest_idx'] = df_reviews['restaurant_id'].map(rest_to_index)"
   ]
  },
  {
   "cell_type": "code",
   "execution_count": 4,
   "id": "a54a496a-a5dc-4f94-8875-9e0a533488c7",
   "metadata": {},
   "outputs": [],
   "source": [
    "interactions = coo_matrix((\n",
    "    df_reviews['weighted_rating_score'].values,\n",
    "    (df_reviews['user_idx'], df_reviews['rest_idx'])\n",
    "))"
   ]
  },
  {
   "cell_type": "code",
   "execution_count": 5,
   "id": "0b7192d4-fd89-4d6d-a80d-06caa968d28a",
   "metadata": {},
   "outputs": [],
   "source": [
    "model = LightFM(\n",
    "    loss='warp',\n",
    "    no_components=32,           \n",
    "    learning_rate=0.03,      \n",
    "    learning_schedule='adadelta'\n",
    ")"
   ]
  },
  {
   "cell_type": "code",
   "execution_count": 6,
   "id": "c3d1f196-be00-4f9c-804c-f44bb6d377c3",
   "metadata": {},
   "outputs": [
    {
     "data": {
      "text/plain": [
       "<lightfm.lightfm.LightFM at 0x1210a1a50>"
      ]
     },
     "execution_count": 6,
     "metadata": {},
     "output_type": "execute_result"
    }
   ],
   "source": [
    "model.fit(interactions, epochs=120)"
   ]
  },
  {
   "cell_type": "code",
   "execution_count": 7,
   "id": "8762d1c0-a1ec-47c5-b883-34b8dcd20dcc",
   "metadata": {},
   "outputs": [],
   "source": [
    "user_history = df_reviews.groupby('user_id')['restaurant_id'].apply(set).to_dict()\n",
    "\n",
    "def precision_at_k_unseen(model, interactions_matrix, k=10, item_features=None):\n",
    "    precisions = []\n",
    "    for user_idx in range(interactions_matrix.shape[0]):\n",
    "        user_id = index_to_user[user_idx]\n",
    "        seen = user_history.get(user_id, set())\n",
    "        seen_indices = {rest_to_index[r] for r in seen if r in rest_to_index}\n",
    "\n",
    "        scores = model.predict(user_idx, np.arange(len(rest_ids)), item_features=item_features)\n",
    "        sorted_items = np.argsort(-scores)\n",
    "\n",
    "        filtered_items = [i for i in sorted_items if i not in seen_indices][:k]\n",
    "\n",
    "        actual_interacted = set(np.nonzero(interactions_matrix.tocsr()[user_idx])[1])\n",
    "        relevant_unseen = actual_interacted - seen_indices\n",
    "\n",
    "        hits = sum([1 for item in filtered_items if item in relevant_unseen])\n",
    "        precisions.append(hits / k)\n",
    "\n",
    "    return np.mean(precisions)"
   ]
  },
  {
   "cell_type": "code",
   "execution_count": 8,
   "id": "e015dd99-78d3-4ce2-a657-91870ade15a4",
   "metadata": {},
   "outputs": [
    {
     "name": "stdout",
     "output_type": "stream",
     "text": [
      "Filtered Precision at 10 (unseen): 0.0\n",
      "Filtered Precision at 15 (unseen): 0.0\n"
     ]
    }
   ],
   "source": [
    "print(\"Filtered Precision at 10 (unseen):\", precision_at_k_unseen(model, interactions, k=10))\n",
    "print(\"Filtered Precision at 15 (unseen):\", precision_at_k_unseen(model, interactions, k=15))"
   ]
  },
  {
   "cell_type": "code",
   "execution_count": 27,
   "id": "65983105-0302-4f79-ab51-b80d6cb9d5a0",
   "metadata": {},
   "outputs": [
    {
     "name": "stdout",
     "output_type": "stream",
     "text": [
      "Precision at 5 (seen): 0.2655009\n",
      "Recall at 5 (seen): 0.9899183799327046\n",
      "AUC Score (seen): 0.9999999\n"
     ]
    }
   ],
   "source": [
    "print(\"Precision at 5 (seen):\", precision_at_k(model, interactions, k=5).mean())\n",
    "print(\"Recall at 5 (seen):\", recall_at_k(model, interactions, k=5).mean())\n",
    "print(\"AUC Score (seen):\", auc_score(model, interactions).mean())"
   ]
  },
  {
   "cell_type": "code",
   "execution_count": 15,
   "id": "6fc36fb5-c669-4bcb-91b2-62d925e5244c",
   "metadata": {},
   "outputs": [
    {
     "name": "stdout",
     "output_type": "stream",
     "text": [
      "Precision at 1: 0.9999\n",
      "Precision at 3: 0.4153\n",
      "Precision at 5: 0.2655\n",
      "Precision at 10: 0.1404\n"
     ]
    }
   ],
   "source": [
    "from lightfm.evaluation import precision_at_k, recall_at_k, auc_score\n",
    "for k in [1, 3, 5, 10]:\n",
    "    print(f\"Precision at {k}: {precision_at_k(model, interactions, k=k).mean():.4f}\")"
   ]
  },
  {
   "cell_type": "code",
   "execution_count": 29,
   "id": "c86c687f-e5c6-4fde-9f8c-08b6c2bbc480",
   "metadata": {},
   "outputs": [],
   "source": [
    "def recommend_top_k(model, user_id, user_to_index, index_to_rest, k=5):\n",
    "    if user_id not in user_to_index:\n",
    "        return []\n",
    "    user_idx = user_to_index[user_id]\n",
    "    scores = model.predict(user_idx, np.arange(len(rest_ids)))\n",
    "    top_items = np.argsort(-scores)[:k]\n",
    "    return [index_to_rest[i] for i in top_items]"
   ]
  },
  {
   "cell_type": "code",
   "execution_count": 31,
   "id": "f3ca9b62-8ff2-4f73-b3d5-980b6ab752dd",
   "metadata": {},
   "outputs": [],
   "source": [
    "results = []\n",
    "for user_id in user_ids:\n",
    "    top_k = recommend_top_k(model, user_id, user_to_index, index_to_rest, k=5)\n",
    "    for rank, rest_id in enumerate(top_k, start=1):\n",
    "        results.append({\n",
    "            \"user_id\": user_id,\n",
    "            \"rank\": rank,\n",
    "            \"recommended_restaurant_id\": rest_id\n",
    "        })\n",
    "\n",
    "recommendation_df = pd.DataFrame(results)\n",
    "user_id_to_name = df_reviews[['user_id', 'user_name']].drop_duplicates().set_index('user_id')['user_name'].to_dict()"
   ]
  },
  {
   "cell_type": "code",
   "execution_count": 33,
   "id": "2a0b75e5-6f57-42bf-96c3-9569dca10819",
   "metadata": {},
   "outputs": [
    {
     "data": {
      "text/html": [
       "<div>\n",
       "<style scoped>\n",
       "    .dataframe tbody tr th:only-of-type {\n",
       "        vertical-align: middle;\n",
       "    }\n",
       "\n",
       "    .dataframe tbody tr th {\n",
       "        vertical-align: top;\n",
       "    }\n",
       "\n",
       "    .dataframe thead th {\n",
       "        text-align: right;\n",
       "    }\n",
       "</style>\n",
       "<table border=\"1\" class=\"dataframe\">\n",
       "  <thead>\n",
       "    <tr style=\"text-align: right;\">\n",
       "      <th></th>\n",
       "      <th>user_name</th>\n",
       "      <th>rank</th>\n",
       "      <th>restaurant_name</th>\n",
       "    </tr>\n",
       "  </thead>\n",
       "  <tbody>\n",
       "    <tr>\n",
       "      <th>0</th>\n",
       "      <td>Tatyana M.</td>\n",
       "      <td>1</td>\n",
       "      <td>Jamaica Jerk Villa</td>\n",
       "    </tr>\n",
       "    <tr>\n",
       "      <th>1</th>\n",
       "      <td>Tatyana M.</td>\n",
       "      <td>2</td>\n",
       "      <td>Taqueria Varitas</td>\n",
       "    </tr>\n",
       "    <tr>\n",
       "      <th>2</th>\n",
       "      <td>Tatyana M.</td>\n",
       "      <td>3</td>\n",
       "      <td>Mahari</td>\n",
       "    </tr>\n",
       "    <tr>\n",
       "      <th>3</th>\n",
       "      <td>Tatyana M.</td>\n",
       "      <td>4</td>\n",
       "      <td>Southport Grocery &amp; Cafe</td>\n",
       "    </tr>\n",
       "    <tr>\n",
       "      <th>4</th>\n",
       "      <td>Tatyana M.</td>\n",
       "      <td>5</td>\n",
       "      <td>Juanitas Mexican food #2</td>\n",
       "    </tr>\n",
       "    <tr>\n",
       "      <th>5</th>\n",
       "      <td>Magic S.</td>\n",
       "      <td>1</td>\n",
       "      <td>Jamaica Jerk Villa</td>\n",
       "    </tr>\n",
       "    <tr>\n",
       "      <th>6</th>\n",
       "      <td>Magic S.</td>\n",
       "      <td>2</td>\n",
       "      <td>Taqueria Varitas</td>\n",
       "    </tr>\n",
       "    <tr>\n",
       "      <th>7</th>\n",
       "      <td>Magic S.</td>\n",
       "      <td>3</td>\n",
       "      <td>Asian Kitchen Express</td>\n",
       "    </tr>\n",
       "    <tr>\n",
       "      <th>8</th>\n",
       "      <td>Magic S.</td>\n",
       "      <td>4</td>\n",
       "      <td>Mahari</td>\n",
       "    </tr>\n",
       "    <tr>\n",
       "      <th>9</th>\n",
       "      <td>Magic S.</td>\n",
       "      <td>5</td>\n",
       "      <td>Huaraches Mexican Restaurant</td>\n",
       "    </tr>\n",
       "    <tr>\n",
       "      <th>10</th>\n",
       "      <td>Kara K.</td>\n",
       "      <td>1</td>\n",
       "      <td>Taqueria Varitas</td>\n",
       "    </tr>\n",
       "    <tr>\n",
       "      <th>11</th>\n",
       "      <td>Kara K.</td>\n",
       "      <td>2</td>\n",
       "      <td>The Caribbean Jerk Joint</td>\n",
       "    </tr>\n",
       "    <tr>\n",
       "      <th>12</th>\n",
       "      <td>Kara K.</td>\n",
       "      <td>3</td>\n",
       "      <td>Nafsi</td>\n",
       "    </tr>\n",
       "    <tr>\n",
       "      <th>13</th>\n",
       "      <td>Kara K.</td>\n",
       "      <td>4</td>\n",
       "      <td>Jamaica Jerk Villa</td>\n",
       "    </tr>\n",
       "    <tr>\n",
       "      <th>14</th>\n",
       "      <td>Kara K.</td>\n",
       "      <td>5</td>\n",
       "      <td>Huaraches Mexican Restaurant</td>\n",
       "    </tr>\n",
       "  </tbody>\n",
       "</table>\n",
       "</div>"
      ],
      "text/plain": [
       "     user_name  rank               restaurant_name\n",
       "0   Tatyana M.     1            Jamaica Jerk Villa\n",
       "1   Tatyana M.     2              Taqueria Varitas\n",
       "2   Tatyana M.     3                        Mahari\n",
       "3   Tatyana M.     4      Southport Grocery & Cafe\n",
       "4   Tatyana M.     5      Juanitas Mexican food #2\n",
       "5     Magic S.     1            Jamaica Jerk Villa\n",
       "6     Magic S.     2              Taqueria Varitas\n",
       "7     Magic S.     3         Asian Kitchen Express\n",
       "8     Magic S.     4                        Mahari\n",
       "9     Magic S.     5  Huaraches Mexican Restaurant\n",
       "10     Kara K.     1              Taqueria Varitas\n",
       "11     Kara K.     2      The Caribbean Jerk Joint\n",
       "12     Kara K.     3                         Nafsi\n",
       "13     Kara K.     4            Jamaica Jerk Villa\n",
       "14     Kara K.     5  Huaraches Mexican Restaurant"
      ]
     },
     "execution_count": 33,
     "metadata": {},
     "output_type": "execute_result"
    }
   ],
   "source": [
    "with open('processed_restaurant_data.pkl', 'rb') as f:\n",
    "    df_rest = pickle.load(f)\n",
    "\n",
    "rest_id_to_name = df_rest[['id', 'name']].drop_duplicates().set_index('id')['name'].to_dict()\n",
    "\n",
    "recommendation_df['user_name'] = recommendation_df['user_id'].map(user_id_to_name)\n",
    "recommendation_df['restaurant_name'] = recommendation_df['recommended_restaurant_id'].map(rest_id_to_name)\n",
    "\n",
    "final_output = recommendation_df[['user_name', 'rank', 'restaurant_name']]\n",
    "final_output.head(15)"
   ]
  },
  {
   "cell_type": "code",
   "execution_count": null,
   "id": "1fe49ee4-5081-4325-b9de-136d1669e27f",
   "metadata": {},
   "outputs": [],
   "source": []
  }
 ],
 "metadata": {
  "kernelspec": {
   "display_name": "Python (finrl_env_310)",
   "language": "python",
   "name": "finrl_env_310"
  },
  "language_info": {
   "codemirror_mode": {
    "name": "ipython",
    "version": 3
   },
   "file_extension": ".py",
   "mimetype": "text/x-python",
   "name": "python",
   "nbconvert_exporter": "python",
   "pygments_lexer": "ipython3",
   "version": "3.10.16"
  }
 },
 "nbformat": 4,
 "nbformat_minor": 5
}
